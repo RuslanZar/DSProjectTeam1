import pandas as pd
import numpy as np
df = pd.read_csv("C:/Users/isabella.bismanns/Downloads/TechLabs/Projekt/TechLab_DSProjectTeam1/loan_data.csv")
print(df.head())
df.fillna('n.A.', inplace=True)
print(df.to_string())